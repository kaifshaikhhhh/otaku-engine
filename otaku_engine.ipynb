{
 "cells": [
  {
   "cell_type": "code",
   "execution_count": 5,
   "metadata": {},
   "outputs": [],
   "source": [
    "import pandas as pd\n",
    "from surprise import Reader, Dataset, SVD\n",
    "from surprise.model_selection import cross_validate"
   ]
  },
  {
   "cell_type": "code",
   "execution_count": 6,
   "metadata": {},
   "outputs": [],
   "source": [
    "animes_df = pd.read_csv('animes.csv')\n",
    "reviews_df = pd.read_csv('rating.csv')\n",
    "\n",
    "animes_df = animes_df[['uid', 'title']]\n",
    "animes_df.rename(columns={'uid':'anime_id'}, inplace=True)\n",
    "animes_df = animes_df.drop_duplicates()"
   ]
  },
  {
   "cell_type": "code",
   "execution_count": 7,
   "metadata": {},
   "outputs": [
    {
     "name": "stdout",
     "output_type": "stream",
     "text": [
      "Anime Dataframe Length (16216, 2)\n"
     ]
    },
    {
     "data": {
      "text/html": [
       "<div>\n",
       "<style scoped>\n",
       "    .dataframe tbody tr th:only-of-type {\n",
       "        vertical-align: middle;\n",
       "    }\n",
       "\n",
       "    .dataframe tbody tr th {\n",
       "        vertical-align: top;\n",
       "    }\n",
       "\n",
       "    .dataframe thead th {\n",
       "        text-align: right;\n",
       "    }\n",
       "</style>\n",
       "<table border=\"1\" class=\"dataframe\">\n",
       "  <thead>\n",
       "    <tr style=\"text-align: right;\">\n",
       "      <th></th>\n",
       "      <th>anime_id</th>\n",
       "      <th>title</th>\n",
       "    </tr>\n",
       "  </thead>\n",
       "  <tbody>\n",
       "    <tr>\n",
       "      <th>7984</th>\n",
       "      <td>25291</td>\n",
       "      <td>Yomiuri Shimbun</td>\n",
       "    </tr>\n",
       "    <tr>\n",
       "      <th>9959</th>\n",
       "      <td>33195</td>\n",
       "      <td>Shi Wan Ge Leng Xiaohua Movie 1</td>\n",
       "    </tr>\n",
       "    <tr>\n",
       "      <th>8313</th>\n",
       "      <td>25969</td>\n",
       "      <td>Clock</td>\n",
       "    </tr>\n",
       "    <tr>\n",
       "      <th>11384</th>\n",
       "      <td>1198</td>\n",
       "      <td>Tsuyokiss</td>\n",
       "    </tr>\n",
       "    <tr>\n",
       "      <th>10029</th>\n",
       "      <td>28087</td>\n",
       "      <td>Ehon Yose</td>\n",
       "    </tr>\n",
       "  </tbody>\n",
       "</table>\n",
       "</div>"
      ],
      "text/plain": [
       "       anime_id                            title\n",
       "7984      25291                  Yomiuri Shimbun\n",
       "9959      33195  Shi Wan Ge Leng Xiaohua Movie 1\n",
       "8313      25969                            Clock\n",
       "11384      1198                        Tsuyokiss\n",
       "10029     28087                        Ehon Yose"
      ]
     },
     "execution_count": 7,
     "metadata": {},
     "output_type": "execute_result"
    }
   ],
   "source": [
    "print(f\"Anime Dataframe Length {animes_df.shape}\")\n",
    "animes_df.sample(5)"
   ]
  },
  {
   "cell_type": "code",
   "execution_count": 8,
   "metadata": {},
   "outputs": [
    {
     "name": "stdout",
     "output_type": "stream",
     "text": [
      "Reviews Dataframe Length (7813737, 3)\n"
     ]
    },
    {
     "data": {
      "text/html": [
       "<div>\n",
       "<style scoped>\n",
       "    .dataframe tbody tr th:only-of-type {\n",
       "        vertical-align: middle;\n",
       "    }\n",
       "\n",
       "    .dataframe tbody tr th {\n",
       "        vertical-align: top;\n",
       "    }\n",
       "\n",
       "    .dataframe thead th {\n",
       "        text-align: right;\n",
       "    }\n",
       "</style>\n",
       "<table border=\"1\" class=\"dataframe\">\n",
       "  <thead>\n",
       "    <tr style=\"text-align: right;\">\n",
       "      <th></th>\n",
       "      <th>user_id</th>\n",
       "      <th>anime_id</th>\n",
       "      <th>rating</th>\n",
       "    </tr>\n",
       "  </thead>\n",
       "  <tbody>\n",
       "    <tr>\n",
       "      <th>1299518</th>\n",
       "      <td>12314</td>\n",
       "      <td>14227</td>\n",
       "      <td>9</td>\n",
       "    </tr>\n",
       "    <tr>\n",
       "      <th>7185791</th>\n",
       "      <td>67011</td>\n",
       "      <td>5040</td>\n",
       "      <td>8</td>\n",
       "    </tr>\n",
       "    <tr>\n",
       "      <th>2869866</th>\n",
       "      <td>26804</td>\n",
       "      <td>7593</td>\n",
       "      <td>8</td>\n",
       "    </tr>\n",
       "    <tr>\n",
       "      <th>84313</th>\n",
       "      <td>871</td>\n",
       "      <td>28907</td>\n",
       "      <td>5</td>\n",
       "    </tr>\n",
       "    <tr>\n",
       "      <th>1874483</th>\n",
       "      <td>18180</td>\n",
       "      <td>1361</td>\n",
       "      <td>4</td>\n",
       "    </tr>\n",
       "  </tbody>\n",
       "</table>\n",
       "</div>"
      ],
      "text/plain": [
       "         user_id  anime_id  rating\n",
       "1299518    12314     14227       9\n",
       "7185791    67011      5040       8\n",
       "2869866    26804      7593       8\n",
       "84313        871     28907       5\n",
       "1874483    18180      1361       4"
      ]
     },
     "execution_count": 8,
     "metadata": {},
     "output_type": "execute_result"
    }
   ],
   "source": [
    "print(f\"Reviews Dataframe Length {reviews_df.shape}\")\n",
    "reviews_df.sample(5)"
   ]
  },
  {
   "cell_type": "code",
   "execution_count": 9,
   "metadata": {},
   "outputs": [
    {
     "name": "stdout",
     "output_type": "stream",
     "text": [
      "Reviews New Dataframe Length (1000000, 3)\n"
     ]
    }
   ],
   "source": [
    "reviews_df_new = reviews_df[reviews_df['rating'] != -1]\n",
    "reviews_df_new = reviews_df_new.sample(frac=1)[:1000000].sort_values('user_id')\n",
    "print(f\"Reviews New Dataframe Length {reviews_df_new.shape}\")"
   ]
  },
  {
   "cell_type": "code",
   "execution_count": 10,
   "metadata": {},
   "outputs": [],
   "source": [
    "review_data = Dataset.load_from_df(reviews_df_new, reader=Reader(rating_scale=(1, 10)))\n",
    "trainset = review_data.build_full_trainset()"
   ]
  },
  {
   "cell_type": "code",
   "execution_count": 11,
   "metadata": {},
   "outputs": [
    {
     "name": "stdout",
     "output_type": "stream",
     "text": [
      "Evaluating RMSE, MAE of algorithm SVD on 5 split(s).\n",
      "\n",
      "                  Fold 1  Fold 2  Fold 3  Fold 4  Fold 5  Mean    Std     \n",
      "RMSE (testset)    1.2797  1.2820  1.2780  1.2823  1.2825  1.2809  0.0017  \n",
      "MAE (testset)     0.9775  0.9771  0.9777  0.9783  0.9789  0.9779  0.0006  \n",
      "Fit time          8.47    8.72    8.65    8.58    8.55    8.59    0.09    \n",
      "Test time         1.55    1.54    1.50    1.79    1.80    1.64    0.13    \n"
     ]
    },
    {
     "data": {
      "text/plain": [
       "{'test_rmse': array([1.27968551, 1.28200548, 1.27804806, 1.28227001, 1.28246053]),\n",
       " 'test_mae': array([0.9774937 , 0.9770601 , 0.97768915, 0.97828545, 0.97887608]),\n",
       " 'fit_time': (8.468531131744385,\n",
       "  8.719434261322021,\n",
       "  8.64927864074707,\n",
       "  8.576908826828003,\n",
       "  8.548457622528076),\n",
       " 'test_time': (1.55448317527771,\n",
       "  1.544205904006958,\n",
       "  1.5040476322174072,\n",
       "  1.7871649265289307,\n",
       "  1.802079439163208)}"
      ]
     },
     "execution_count": 11,
     "metadata": {},
     "output_type": "execute_result"
    }
   ],
   "source": [
    "model = SVD()\n",
    "model.fit(trainset)\n",
    "cross_validate(model, review_data, measures=[\"RMSE\", \"MAE\"], cv=5, verbose=True)"
   ]
  },
  {
   "cell_type": "code",
   "execution_count": 12,
   "metadata": {},
   "outputs": [
    {
     "data": {
      "text/plain": [
       "Prediction(uid=4797, iid=3484, r_ui=4, est=7.978566620636486, details={'was_impossible': False})"
      ]
     },
     "execution_count": 12,
     "metadata": {},
     "output_type": "execute_result"
    }
   ],
   "source": [
    "model.predict(4797, 3484, 4)"
   ]
  },
  {
   "cell_type": "code",
   "execution_count": 13,
   "metadata": {},
   "outputs": [
    {
     "data": {
      "text/html": [
       "<div>\n",
       "<style scoped>\n",
       "    .dataframe tbody tr th:only-of-type {\n",
       "        vertical-align: middle;\n",
       "    }\n",
       "\n",
       "    .dataframe tbody tr th {\n",
       "        vertical-align: top;\n",
       "    }\n",
       "\n",
       "    .dataframe thead th {\n",
       "        text-align: right;\n",
       "    }\n",
       "</style>\n",
       "<table border=\"1\" class=\"dataframe\">\n",
       "  <thead>\n",
       "    <tr style=\"text-align: right;\">\n",
       "      <th></th>\n",
       "      <th>user_id</th>\n",
       "      <th>anime_id</th>\n",
       "      <th>rating</th>\n",
       "    </tr>\n",
       "  </thead>\n",
       "  <tbody>\n",
       "    <tr>\n",
       "      <th>465935</th>\n",
       "      <td>4797</td>\n",
       "      <td>807</td>\n",
       "      <td>8</td>\n",
       "    </tr>\n",
       "    <tr>\n",
       "      <th>465980</th>\n",
       "      <td>4797</td>\n",
       "      <td>3483</td>\n",
       "      <td>8</td>\n",
       "    </tr>\n",
       "    <tr>\n",
       "      <th>465933</th>\n",
       "      <td>4797</td>\n",
       "      <td>645</td>\n",
       "      <td>8</td>\n",
       "    </tr>\n",
       "    <tr>\n",
       "      <th>465918</th>\n",
       "      <td>4797</td>\n",
       "      <td>225</td>\n",
       "      <td>7</td>\n",
       "    </tr>\n",
       "    <tr>\n",
       "      <th>465962</th>\n",
       "      <td>4797</td>\n",
       "      <td>1210</td>\n",
       "      <td>9</td>\n",
       "    </tr>\n",
       "    <tr>\n",
       "      <th>465959</th>\n",
       "      <td>4797</td>\n",
       "      <td>1011</td>\n",
       "      <td>9</td>\n",
       "    </tr>\n",
       "    <tr>\n",
       "      <th>465927</th>\n",
       "      <td>4797</td>\n",
       "      <td>372</td>\n",
       "      <td>8</td>\n",
       "    </tr>\n",
       "    <tr>\n",
       "      <th>465963</th>\n",
       "      <td>4797</td>\n",
       "      <td>1453</td>\n",
       "      <td>9</td>\n",
       "    </tr>\n",
       "    <tr>\n",
       "      <th>465920</th>\n",
       "      <td>4797</td>\n",
       "      <td>238</td>\n",
       "      <td>8</td>\n",
       "    </tr>\n",
       "    <tr>\n",
       "      <th>465982</th>\n",
       "      <td>4797</td>\n",
       "      <td>4214</td>\n",
       "      <td>6</td>\n",
       "    </tr>\n",
       "    <tr>\n",
       "      <th>465929</th>\n",
       "      <td>4797</td>\n",
       "      <td>401</td>\n",
       "      <td>9</td>\n",
       "    </tr>\n",
       "    <tr>\n",
       "      <th>465952</th>\n",
       "      <td>4797</td>\n",
       "      <td>963</td>\n",
       "      <td>8</td>\n",
       "    </tr>\n",
       "    <tr>\n",
       "      <th>465943</th>\n",
       "      <td>4797</td>\n",
       "      <td>898</td>\n",
       "      <td>8</td>\n",
       "    </tr>\n",
       "    <tr>\n",
       "      <th>465979</th>\n",
       "      <td>4797</td>\n",
       "      <td>3470</td>\n",
       "      <td>8</td>\n",
       "    </tr>\n",
       "    <tr>\n",
       "      <th>465903</th>\n",
       "      <td>4797</td>\n",
       "      <td>50</td>\n",
       "      <td>9</td>\n",
       "    </tr>\n",
       "    <tr>\n",
       "      <th>465947</th>\n",
       "      <td>4797</td>\n",
       "      <td>902</td>\n",
       "      <td>9</td>\n",
       "    </tr>\n",
       "    <tr>\n",
       "      <th>465921</th>\n",
       "      <td>4797</td>\n",
       "      <td>240</td>\n",
       "      <td>8</td>\n",
       "    </tr>\n",
       "  </tbody>\n",
       "</table>\n",
       "</div>"
      ],
      "text/plain": [
       "        user_id  anime_id  rating\n",
       "465935     4797       807       8\n",
       "465980     4797      3483       8\n",
       "465933     4797       645       8\n",
       "465918     4797       225       7\n",
       "465962     4797      1210       9\n",
       "465959     4797      1011       9\n",
       "465927     4797       372       8\n",
       "465963     4797      1453       9\n",
       "465920     4797       238       8\n",
       "465982     4797      4214       6\n",
       "465929     4797       401       9\n",
       "465952     4797       963       8\n",
       "465943     4797       898       8\n",
       "465979     4797      3470       8\n",
       "465903     4797        50       9\n",
       "465947     4797       902       9\n",
       "465921     4797       240       8"
      ]
     },
     "execution_count": 13,
     "metadata": {},
     "output_type": "execute_result"
    }
   ],
   "source": [
    "reviews_df_new[reviews_df_new['user_id'] == 4797]"
   ]
  },
  {
   "cell_type": "code",
   "execution_count": 16,
   "metadata": {},
   "outputs": [],
   "source": [
    "def anime_predict(userid):\n",
    "    anime_total = reviews_df_new.anime_id.unique()\n",
    "    watched = reviews_df_new[reviews_df_new.user_id==userid].anime_id\n",
    "    unwatched = [anime for anime in anime_total if anime not in watched]\n",
    "\n",
    "    score = [model.predict(userid, anime_id) for anime_id in unwatched]\n",
    "    anime_id = []\n",
    "    prediction_score = []\n",
    "    for i in range(0, len(score)):\n",
    "        anime_id.append(score[i].iid)\n",
    "        prediction_score.append(score[i].est)\n",
    "    prediction_df = pd.DataFrame({'anime_id':anime_id, 'pred_score':prediction_score})\n",
    "\n",
    "    all_user_pred = prediction_df.sort_values('pred_score', ascending=False).head(10)\n",
    "    all_user_pred.merge(animes_df, how='left', on='anime_id')\n",
    "    \n",
    "    return all_user_pred.merge(animes_df, how='left', on='anime_id')\n",
    "    "
   ]
  },
  {
   "cell_type": "code",
   "execution_count": 17,
   "metadata": {},
   "outputs": [
    {
     "data": {
      "text/html": [
       "<div>\n",
       "<style scoped>\n",
       "    .dataframe tbody tr th:only-of-type {\n",
       "        vertical-align: middle;\n",
       "    }\n",
       "\n",
       "    .dataframe tbody tr th {\n",
       "        vertical-align: top;\n",
       "    }\n",
       "\n",
       "    .dataframe thead th {\n",
       "        text-align: right;\n",
       "    }\n",
       "</style>\n",
       "<table border=\"1\" class=\"dataframe\">\n",
       "  <thead>\n",
       "    <tr style=\"text-align: right;\">\n",
       "      <th></th>\n",
       "      <th>anime_id</th>\n",
       "      <th>pred_score</th>\n",
       "      <th>title</th>\n",
       "    </tr>\n",
       "  </thead>\n",
       "  <tbody>\n",
       "    <tr>\n",
       "      <th>0</th>\n",
       "      <td>11757</td>\n",
       "      <td>7.934198</td>\n",
       "      <td>Sword Art Online</td>\n",
       "    </tr>\n",
       "    <tr>\n",
       "      <th>1</th>\n",
       "      <td>2251</td>\n",
       "      <td>7.835651</td>\n",
       "      <td>Baccano!</td>\n",
       "    </tr>\n",
       "    <tr>\n",
       "      <th>2</th>\n",
       "      <td>164</td>\n",
       "      <td>7.433971</td>\n",
       "      <td>Mononoke Hime</td>\n",
       "    </tr>\n",
       "    <tr>\n",
       "      <th>3</th>\n",
       "      <td>5114</td>\n",
       "      <td>7.428781</td>\n",
       "      <td>Fullmetal Alchemist: Brotherhood</td>\n",
       "    </tr>\n",
       "    <tr>\n",
       "      <th>4</th>\n",
       "      <td>11061</td>\n",
       "      <td>7.358139</td>\n",
       "      <td>Hunter x Hunter (2011)</td>\n",
       "    </tr>\n",
       "    <tr>\n",
       "      <th>5</th>\n",
       "      <td>339</td>\n",
       "      <td>7.344123</td>\n",
       "      <td>Serial Experiments Lain</td>\n",
       "    </tr>\n",
       "    <tr>\n",
       "      <th>6</th>\n",
       "      <td>11981</td>\n",
       "      <td>7.268309</td>\n",
       "      <td>Mahou Shoujo Madoka★Magica Movie 3: Hangyaku n...</td>\n",
       "    </tr>\n",
       "    <tr>\n",
       "      <th>7</th>\n",
       "      <td>820</td>\n",
       "      <td>7.239986</td>\n",
       "      <td>Ginga Eiyuu Densetsu</td>\n",
       "    </tr>\n",
       "    <tr>\n",
       "      <th>8</th>\n",
       "      <td>777</td>\n",
       "      <td>7.224165</td>\n",
       "      <td>Hellsing Ultimate</td>\n",
       "    </tr>\n",
       "    <tr>\n",
       "      <th>9</th>\n",
       "      <td>7785</td>\n",
       "      <td>7.174965</td>\n",
       "      <td>Yojouhan Shinwa Taikei</td>\n",
       "    </tr>\n",
       "  </tbody>\n",
       "</table>\n",
       "</div>"
      ],
      "text/plain": [
       "   anime_id  pred_score                                              title\n",
       "0     11757    7.934198                                   Sword Art Online\n",
       "1      2251    7.835651                                           Baccano!\n",
       "2       164    7.433971                                      Mononoke Hime\n",
       "3      5114    7.428781                   Fullmetal Alchemist: Brotherhood\n",
       "4     11061    7.358139                             Hunter x Hunter (2011)\n",
       "5       339    7.344123                            Serial Experiments Lain\n",
       "6     11981    7.268309  Mahou Shoujo Madoka★Magica Movie 3: Hangyaku n...\n",
       "7       820    7.239986                               Ginga Eiyuu Densetsu\n",
       "8       777    7.224165                                  Hellsing Ultimate\n",
       "9      7785    7.174965                             Yojouhan Shinwa Taikei"
      ]
     },
     "execution_count": 17,
     "metadata": {},
     "output_type": "execute_result"
    }
   ],
   "source": [
    "user_input = int(input(\"Enter User ID: \"))\n",
    "anime_predict(user_input)"
   ]
  },
  {
   "cell_type": "code",
   "execution_count": null,
   "metadata": {},
   "outputs": [],
   "source": []
  }
 ],
 "metadata": {
  "kernelspec": {
   "display_name": "base",
   "language": "python",
   "name": "python3"
  },
  "language_info": {
   "codemirror_mode": {
    "name": "ipython",
    "version": 3
   },
   "file_extension": ".py",
   "mimetype": "text/x-python",
   "name": "python",
   "nbconvert_exporter": "python",
   "pygments_lexer": "ipython3",
   "version": "3.9.12"
  },
  "orig_nbformat": 4
 },
 "nbformat": 4,
 "nbformat_minor": 2
}
